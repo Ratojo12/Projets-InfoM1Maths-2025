{
 "cells": [
  {
   "cell_type": "markdown",
   "id": "20eee50e-e1cc-4e61-b075-a50cbe6beb43",
   "metadata": {},
   "source": [
    "RANDRIAMAHERY Tojoniaina Mamitiana"
   ]
  },
  {
   "cell_type": "code",
   "execution_count": null,
   "id": "ffdef7c8-16c7-4d9b-859f-3413a174efd7",
   "metadata": {},
   "outputs": [],
   "source": [
    "pip install --upgrade matplotlib\n"
   ]
  },
  {
   "cell_type": "code",
   "execution_count": 3,
   "id": "599dc1c6-cf6e-4312-87ee-4601b7748c74",
   "metadata": {},
   "outputs": [
    {
     "name": "stdout",
     "output_type": "stream",
     "text": [
      "3.10.1\n"
     ]
    }
   ],
   "source": [
    "import matplotlib\n",
    "print(matplotlib.__version__)\n"
   ]
  },
  {
   "cell_type": "code",
   "execution_count": 1,
   "id": "5121b6cf-a296-4855-9d8f-f57851043b4f",
   "metadata": {},
   "outputs": [
    {
     "name": "stdout",
     "output_type": "stream",
     "text": [
      "Données chargées :\n",
      "Fréquences : [0.0, 1.0, 2.0, 3.0, 4.0, 5.0, 6.0, 7.0, 8.0, 9.0, 10.0, 11.0, 12.0, 13.0, 14.0, -15.0, -14.0, -13.0, -12.0, -11.0]\n",
      "Magnitudes : [4.285460875053104e-14, 4.360806378512988e-14, 9.675982198017628e-14, 6.732832175385806e-14, 9.796578024427955e-14, 4.679744792624881e-14, 7.795024811896167e-14, 15.000000000000025, 6.179777508393273e-14, 7.004310746343475e-15, 6.496002580656634e-14, 8.621409000924366e-14, 1.0810431491176357e-13, 9.26196197256069e-14, 7.732392529699918e-14, 4.5356783236383584e-14, 7.580728093302243e-14, 8.072176536150086e-14, 1.023544345591959e-13, 9.225960014674899e-14]\n"
     ]
    },
    {
     "data": {
      "image/png": "[encoded data removed]",
      "text/plain": [
       "<Figure size 800x400 with 1 Axes>"
      ]
     },
     "metadata": {},
     "output_type": "display_data"
    }
   ],
   "source": [
    "import numpy as np\n",
    "import matplotlib.pyplot as plt\n",
    "import csv\n",
    "\n",
    "def dft(x):\n",
    "    #Calcule la Transformée de Fourier Discrète (TFD) \n",
    "    N = len(x)\n",
    "    X = np.zeros(N, dtype=complex)\n",
    "    for k in range(N):\n",
    "        for n in range(N):\n",
    "            X[k] += x[n] * np.exp(-2j * np.pi * k * n / N)\n",
    "    return X\n",
    "\n",
    "N = 30\n",
    "f0 = 67\n",
    "n = np.arange(N)\n",
    "signal = np.sin(2 * np.pi * f0 * n / N)  \n",
    "X_dft = dft(signal)\n",
    "freqs = np.fft.fftfreq(N) * N  \n",
    "\n",
    "#  fichier CSV\n",
    "csv_filename = \"tfd_data.csv\"\n",
    "with open(csv_filename, mode=\"w\", newline=\"\") as file:\n",
    "    writer = csv.writer(file)\n",
    "    writer.writerow([\"Fréquence\", \"Magnitude\", \"Phase\"])\n",
    "    for k in range(N):\n",
    "        magnitude = np.abs(X_dft[k])\n",
    "        phase = np.angle(X_dft[k])\n",
    "        writer.writerow([freqs[k], magnitude, phase])\n",
    "\n",
    "# Chargement CSV\n",
    "freqs_loaded = []\n",
    "magnitude_loaded = []\n",
    "phase_loaded = []\n",
    "\n",
    "with open(csv_filename, mode=\"r\") as file:\n",
    "    reader = csv.reader(file)\n",
    "    next(reader)  # Ignorer l'en-tête\n",
    "    for row in reader:\n",
    "        freqs_loaded.append(float(row[0]))\n",
    "        magnitude_loaded.append(float(row[1]))\n",
    "        phase_loaded.append(float(row[2]))\n",
    "    print(\"Données chargées :\")\n",
    "    print(\"Fréquences :\", freqs_loaded[:20])  \n",
    "    print(\"Magnitudes :\", magnitude_loaded[:20])\n",
    "\n",
    "\n",
    "# Affichage du spectre\n",
    "plt.figure(figsize=(8, 4))\n",
    "plt.stem(freqs_loaded, magnitude_loaded, basefmt=\" \")\n",
    "plt.title(\"Spectre de la Transformée de Fourier Discrète\")\n",
    "plt.xlabel(\"Fréquence\")\n",
    "plt.ylabel(\"Magnitude\")\n",
    "plt.grid()\n",
    "plt.show()\n"
   ]
  },
  {
   "cell_type": "markdown",
   "id": "dab97cab-3f89-4a2d-9e1b-0fadf67c12e8",
   "metadata": {},
   "source": [
    " - Le spectre de la TFD présente une symétrie autour de la moitié de la fréquence d’échantillonnage.\n",
    " - Les fréquences supérieures à N/2 sont des répétitions des basses fréquences\n",
    " - La TFD brute est correcte mais inefficace pour de grands signaux.\n"
   ]
  },
  {
   "cell_type": "code",
   "execution_count": null,
   "id": "53b5a74c-bb5e-41b1-add7-a1c21e66d1cd",
   "metadata": {},
   "outputs": [],
   "source": []
  }
 ],
 "metadata": {
  "kernelspec": {
   "display_name": "nom_du_kernel",
   "language": "python",
   "name": "nom_du_kernel"
  },
  "language_info": {
   "codemirror_mode": {
    "name": "ipython",
    "version": 3
   },
   "file_extension": ".py",
   "mimetype": "text/x-python",
   "name": "python",
   "nbconvert_exporter": "python",
   "pygments_lexer": "ipython3",
   "version": "3.10.12"
  }
 },
 "nbformat": 4,
 "nbformat_minor": 5
}

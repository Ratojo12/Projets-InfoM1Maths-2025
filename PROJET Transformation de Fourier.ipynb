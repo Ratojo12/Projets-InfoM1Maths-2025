{
 "cells": [
  {
   "cell_type": "code",
   "execution_count": 1,
   "id": "ffdef7c8-16c7-4d9b-859f-3413a174efd7",
   "metadata": {},
   "outputs": [
    {
     "name": "stdout",
     "output_type": "stream",
     "text": [
      "Defaulting to user installation because normal site-packages is not writeable\n",
      "Requirement already satisfied: matplotlib in ./.local/lib/python3.10/site-packages (3.10.1)\n",
      "Requirement already satisfied: pyparsing>=2.3.1 in /usr/lib/python3/dist-packages (from matplotlib) (2.4.7)\n",
      "Requirement already satisfied: python-dateutil>=2.7 in ./.local/lib/python3.10/site-packages (from matplotlib) (2.9.0.post0)\n",
      "Requirement already satisfied: pillow>=8 in /usr/lib/python3/dist-packages (from matplotlib) (9.0.1)\n",
      "Requirement already satisfied: numpy>=1.23 in ./.local/lib/python3.10/site-packages (from matplotlib) (2.2.1)\n",
      "Requirement already satisfied: cycler>=0.10 in ./.local/lib/python3.10/site-packages (from matplotlib) (0.12.1)\n",
      "Requirement already satisfied: contourpy>=1.0.1 in ./.local/lib/python3.10/site-packages (from matplotlib) (1.3.1)\n",
      "Requirement already satisfied: kiwisolver>=1.3.1 in ./.local/lib/python3.10/site-packages (from matplotlib) (1.4.8)\n",
      "Requirement already satisfied: fonttools>=4.22.0 in ./.local/lib/python3.10/site-packages (from matplotlib) (4.55.3)\n",
      "Requirement already satisfied: packaging>=20.0 in ./.local/lib/python3.10/site-packages (from matplotlib) (24.2)\n",
      "Requirement already satisfied: six>=1.5 in /usr/lib/python3/dist-packages (from python-dateutil>=2.7->matplotlib) (1.16.0)\n",
      "Note: you may need to restart the kernel to use updated packages.\n"
     ]
    }
   ],
   "source": [
    "pip install --upgrade matplotlib\n"
   ]
  },
  {
   "cell_type": "code",
   "execution_count": 3,
   "id": "599dc1c6-cf6e-4312-87ee-4601b7748c74",
   "metadata": {},
   "outputs": [
    {
     "name": "stdout",
     "output_type": "stream",
     "text": [
      "3.10.1\n"
     ]
    }
   ],
   "source": [
    "import matplotlib\n",
    "print(matplotlib.__version__)\n"
   ]
  },
  {
   "cell_type": "code",
   "execution_count": 28,
   "id": "5121b6cf-a296-4855-9d8f-f57851043b4f",
   "metadata": {},
   "outputs": [
    {
     "name": "stdout",
     "output_type": "stream",
     "text": [
      "Données chargées :\n",
      "Fréquences : [0.0, 1.0, 2.0, 3.0, 4.0, 5.0, 6.0, 7.000000000000001, 8.0, 9.0, 10.0, 11.0, 12.0, 13.0, 14.000000000000002, 15.0, 16.0, 17.0, 18.0, 19.0]\n",
      "Magnitudes : [6.994405055138486e-15, 8.178201078779536e-15, 1.1567069537560152e-14, 1.4095011584298678e-14, 1.6260717144853226e-15, 50.00000000000002, 1.6700739962352418e-14, 6.477701821198131e-15, 2.368947728193158e-14, 3.833084183753514e-15, 1.7530013745756942e-15, 1.2052345373807108e-14, 9.791268598690766e-15, 2.8392488713289194e-14, 1.943247117728196e-14, 1.7416463357094397e-14, 1.7421040808987478e-14, 3.262261471588943e-14, 3.567091463915702e-14, 1.81637341020579e-14]\n"
     ]
    },
    {
     "data": {
      "image/png": "[encoded data removed]",
      "text/plain": [
       "<Figure size 800x400 with 1 Axes>"
      ]
     },
     "metadata": {},
     "output_type": "display_data"
    }
   ],
   "source": [
    "import numpy as np\n",
    "import matplotlib.pyplot as plt\n",
    "import csv\n",
    "\n",
    "def dft(x):\n",
    "    #Calcule la Transformée de Fourier Discrète (TFD) \n",
    "    N = len(x)\n",
    "    X = np.zeros(N, dtype=complex)\n",
    "    for k in range(N):\n",
    "        for n in range(N):\n",
    "            X[k] += x[n] * np.exp(-2j * np.pi * k * n / N)\n",
    "    return X\n",
    "\n",
    "N = 100 \n",
    "f0 = 5 \n",
    "n = np.arange(N)\n",
    "signal = np.sin(2 * np.pi * f0 * n / N)  \n",
    "X_dft = dft(signal)\n",
    "freqs = np.fft.fftfreq(N) * N  \n",
    "\n",
    "#  fichier CSV\n",
    "csv_filename = \"tfd_data.csv\"\n",
    "with open(csv_filename, mode=\"w\", newline=\"\") as file:\n",
    "    writer = csv.writer(file)\n",
    "    writer.writerow([\"Fréquence\", \"Magnitude\", \"Phase\"])\n",
    "    for k in range(N):\n",
    "        magnitude = np.abs(X_dft[k])\n",
    "        phase = np.angle(X_dft[k])\n",
    "        writer.writerow([freqs[k], magnitude, phase])\n",
    "\n",
    "# Chargement CSV\n",
    "freqs_loaded = []\n",
    "magnitude_loaded = []\n",
    "phase_loaded = []\n",
    "\n",
    "with open(csv_filename, mode=\"r\") as file:\n",
    "    reader = csv.reader(file)\n",
    "    next(reader)  # Ignorer l'en-tête\n",
    "    for row in reader:\n",
    "        freqs_loaded.append(float(row[0]))\n",
    "        magnitude_loaded.append(float(row[1]))\n",
    "        phase_loaded.append(float(row[2]))\n",
    "    print(\"Données chargées :\")\n",
    "    print(\"Fréquences :\", freqs_loaded[:20])  \n",
    "    print(\"Magnitudes :\", magnitude_loaded[:20])\n",
    "\n",
    "\n",
    "# Affichage du spectre\n",
    "plt.figure(figsize=(8, 4))\n",
    "plt.stem(freqs_loaded, magnitude_loaded, basefmt=\" \")\n",
    "plt.title(\"Spectre de la Transformée de Fourier Discrète\")\n",
    "plt.xlabel(\"Fréquence\")\n",
    "plt.ylabel(\"Magnitude\")\n",
    "plt.grid()\n",
    "plt.show()\n"
   ]
  },
  {
   "cell_type": "markdown",
   "id": "dab97cab-3f89-4a2d-9e1b-0fadf67c12e8",
   "metadata": {},
   "source": [
    " - Le spectre de la TFD présente une symétrie autour de la moitié de la fréquence d’échantillonnage.\n",
    " - Les fréquences supérieures à N/2 sont des répétitions des basses fréquences\n",
    " - La TFD brute est correcte mais inefficace pour de grands signaux.\n"
   ]
  },
  {
   "cell_type": "code",
   "execution_count": null,
   "id": "5653b655-2df2-46ac-81c1-67b55f6fc388",
   "metadata": {},
   "outputs": [],
   "source": []
  }
 ],
 "metadata": {
  "kernelspec": {
   "display_name": "nom_du_kernel",
   "language": "python",
   "name": "nom_du_kernel"
  },
  "language_info": {
   "codemirror_mode": {
    "name": "ipython",
    "version": 3
   },
   "file_extension": ".py",
   "mimetype": "text/x-python",
   "name": "python",
   "nbconvert_exporter": "python",
   "pygments_lexer": "ipython3",
   "version": "3.10.12"
  }
 },
 "nbformat": 4,
 "nbformat_minor": 5
}

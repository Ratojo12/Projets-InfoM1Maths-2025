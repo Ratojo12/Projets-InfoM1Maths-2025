{
 "cells": [
  {
   "cell_type": "code",
   "execution_count": 12,
   "id": "13d893ab-264f-46c7-830e-c0aa81f1e246",
   "metadata": {},
   "outputs": [
    {
     "name": "stdin",
     "output_type": "stream",
     "text": [
      "Tapez n: 5\n"
     ]
    },
    {
     "name": "stdout",
     "output_type": "stream",
     "text": [
      "2.7166666666666663\n",
      "on a une marge d'erreur de  0.0016151617923787498\n"
     ]
    }
   ],
   "source": [
    "import numpy as np\n",
    "import math\n",
    "n=int(input(\"Tapez n:\"))\n",
    "f=1\n",
    "s=1\n",
    "for i in range(1,n+1):\n",
    "    f=f*i\n",
    "    s=s+(1/f)\n",
    "print(s)\n",
    "print(\"On a une marge d'erreur de \",np.fabs(s-math.e))"
   ]
  },
  {
   "cell_type": "code",
   "execution_count": null,
   "id": "8b7bf06e-9e3d-4c5a-851d-4aa079859b8a",
   "metadata": {},
   "outputs": [],
   "source": []
  }
 ],
 "metadata": {
  "kernelspec": {
   "display_name": "Python 3 (ipykernel)",
   "language": "python",
   "name": "python3"
  },
  "language_info": {
   "codemirror_mode": {
    "name": "ipython",
    "version": 3
   },
   "file_extension": ".py",
   "mimetype": "text/x-python",
   "name": "python",
   "nbconvert_exporter": "python",
   "pygments_lexer": "ipython3",
   "version": "3.12.3"
  }
 },
 "nbformat": 4,
 "nbformat_minor": 5
}
